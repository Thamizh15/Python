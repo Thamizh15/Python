{
  "nbformat": 4,
  "nbformat_minor": 0,
  "metadata": {
    "colab": {
      "name": "day6.ipynb",
      "provenance": [],
      "authorship_tag": "ABX9TyOQOkPFVfF1mRtegzFjQjar",
      "include_colab_link": true
    },
    "kernelspec": {
      "name": "python3",
      "display_name": "Python 3"
    }
  },
  "cells": [
    {
      "cell_type": "markdown",
      "metadata": {
        "id": "view-in-github",
        "colab_type": "text"
      },
      "source": [
        "<a href=\"https://colab.research.google.com/github/Thamizh15/Python/blob/master/day6.ipynb\" target=\"_parent\"><img src=\"https://colab.research.google.com/assets/colab-badge.svg\" alt=\"Open In Colab\"/></a>"
      ]
    },
    {
      "cell_type": "code",
      "metadata": {
        "id": "WVShftG72fXr",
        "colab_type": "code",
        "colab": {}
      },
      "source": [
        ""
      ],
      "execution_count": null,
      "outputs": []
    },
    {
      "cell_type": "code",
      "metadata": {
        "id": "3fqscO6C4UL3",
        "colab_type": "code",
        "colab": {
          "base_uri": "https://localhost:8080/",
          "height": 170
        },
        "outputId": "de6525b7-b8df-4e92-8336-1864ba9cfcf0"
      },
      "source": [
        "class Bank_Account: \n",
        "    def __init__(self): \n",
        "        self.balance=0\n",
        "        print(\" Welcome\") \n",
        "  \n",
        "    def deposit(self): \n",
        "        amount=float(input(\"Enter amount to be Deposited: \")) \n",
        "        self.balance += amount \n",
        "        print(\"\\n Amount Deposited:\",amount) \n",
        "  \n",
        "    def withdraw(self): \n",
        "        amount = float(input(\"Enter amount to be Withdrawn: \")) \n",
        "        if self.balance>=amount: \n",
        "            self.balance-=amount \n",
        "            print(\"\\n You Withdrew:\", amount) \n",
        "        else: \n",
        "            print(\"\\n Insufficient balance  \") \n",
        "  \n",
        "    def display(self): \n",
        "        print(\"\\n Net Available Balance=\",self.balance) \n",
        "  \n",
        "\n",
        "   \n",
        "\n",
        "s = Bank_Account() \n",
        "   \n",
        "\n",
        "s.deposit() \n",
        "s.withdraw() \n",
        "s.display() "
      ],
      "execution_count": 62,
      "outputs": [
        {
          "output_type": "stream",
          "text": [
            " Welcome\n",
            "Enter amount to be Deposited: 90879\n",
            "\n",
            " Amount Deposited: 90879.0\n",
            "Enter amount to be Withdrawn: 7896\n",
            "\n",
            " You Withdrew: 7896.0\n",
            "\n",
            " Net Available Balance= 82983.0\n"
          ],
          "name": "stdout"
        }
      ]
    },
    {
      "cell_type": "markdown",
      "metadata": {
        "id": "wpbHclLHBtHW",
        "colab_type": "text"
      },
      "source": [
        "# find the area and surface of cone"
      ]
    },
    {
      "cell_type": "code",
      "metadata": {
        "id": "hWK2t2Fe8tRp",
        "colab_type": "code",
        "colab": {
          "base_uri": "https://localhost:8080/",
          "height": 51
        },
        "outputId": "9182103a-063b-4445-ee74-6ec8da8c5ccb"
      },
      "source": [
        "import math \n",
        "pi = math.pi \n",
        "  \n",
        "class cone:\n",
        "  def __init__(self,r,s):\n",
        "    self.vol=0\n",
        "    self.sa=0\n",
        "    self.r=r\n",
        "    self.s=s\n",
        "  def volume(self): \n",
        "    self.vol=(1 / 3) * pi * self.r  \n",
        "  def surface(self):\n",
        "    self.sa=pi * self.r * self.s + pi * self.r * self.r\n",
        "\n",
        "  def disp(self):\n",
        "    print( \"Volume Of Cone : \",self.vol) \n",
        "    print(\"surface:\",self.sa)\n",
        "c = cone(6,9)\n",
        "c.volume()\n",
        "c.surface()\n",
        "c.disp()"
      ],
      "execution_count": 61,
      "outputs": [
        {
          "output_type": "stream",
          "text": [
            "Volume Of Cone :  6.283185307179586\n",
            "surface: 282.7433388230814\n"
          ],
          "name": "stdout"
        }
      ]
    }
  ]
}