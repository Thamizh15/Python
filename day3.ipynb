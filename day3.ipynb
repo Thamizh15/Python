{
  "nbformat": 4,
  "nbformat_minor": 0,
  "metadata": {
    "colab": {
      "name": "Untitled1.ipynb",
      "provenance": [],
      "authorship_tag": "ABX9TyOysB24uAQfHkSckMtEukwj",
      "include_colab_link": true
    },
    "kernelspec": {
      "name": "python3",
      "display_name": "Python 3"
    }
  },
  "cells": [
    {
      "cell_type": "markdown",
      "metadata": {
        "id": "view-in-github",
        "colab_type": "text"
      },
      "source": [
        "<a href=\"https://colab.research.google.com/github/Thamizh15/Python/blob/master/day3.ipynb\" target=\"_parent\"><img src=\"https://colab.research.google.com/assets/colab-badge.svg\" alt=\"Open In Colab\"/></a>"
      ]
    },
    {
      "cell_type": "code",
      "metadata": {
        "id": "IAP36vu2R2PK",
        "colab_type": "code",
        "colab": {
          "base_uri": "https://localhost:8080/",
          "height": 34
        },
        "outputId": "96599e4a-31ea-466b-c3cd-f9b6fe7368ce"
      },
      "source": [
        "input=500\n",
        "if input<1000:\n",
        "  print(\"land\")\n",
        "elif input>1000 or input<5000:\n",
        "    print(\"come down\")\n",
        "else:\n",
        "      print(\"try again\")"
      ],
      "execution_count": 35,
      "outputs": [
        {
          "output_type": "stream",
          "text": [
            "land\n"
          ],
          "name": "stdout"
        }
      ]
    }
  ]
}