{
  "nbformat": 4,
  "nbformat_minor": 0,
  "metadata": {
    "colab": {
      "name": "Untitled",
      "provenance": [],
      "collapsed_sections": [],
      "authorship_tag": "ABX9TyNLPGyEc9Dy7G+G/npY5kWC",
      "include_colab_link": true
    },
    "kernelspec": {
      "name": "python3",
      "display_name": "Python 3"
    }
  },
  "cells": [
    {
      "cell_type": "markdown",
      "metadata": {
        "id": "view-in-github",
        "colab_type": "text"
      },
      "source": [
        "<a href=\"https://colab.research.google.com/github/Thamizh15/Python/blob/master/day8.ipynb\" target=\"_parent\"><img src=\"https://colab.research.google.com/assets/colab-badge.svg\" alt=\"Open In Colab\"/></a>"
      ]
    },
    {
      "cell_type": "code",
      "metadata": {
        "id": "OaTFQra2iDa-",
        "colab_type": "code",
        "colab": {
          "base_uri": "https://localhost:8080/",
          "height": 52
        },
        "outputId": "50e145d1-0f0f-4218-f0c4-a2173956456e"
      },
      "source": [
        "try:\n",
        "    file = open(\"f.txt\",\"r\")\n",
        "    file.write(\"i am going to write into the file\")\n",
        "    file.close()\n",
        "    print(\" working fine\")\n",
        "    \n",
        "except OSError:\n",
        "    print(\"File mode is differnt\")\n",
        "\n",
        "finally:\n",
        "    print(\"change the file mod\")"
      ],
      "execution_count": 31,
      "outputs": [
        {
          "output_type": "stream",
          "text": [
            "File mode is differnt\n",
            "change the file mod\n"
          ],
          "name": "stdout"
        }
      ]
    }
  ]
}